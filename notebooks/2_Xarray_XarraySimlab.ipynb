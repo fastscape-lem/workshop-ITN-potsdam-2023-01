{
 "cells": [
  {
   "cell_type": "markdown",
   "id": "rising-password",
   "metadata": {},
   "source": [
    "![xarray](./assets/xarray.png)"
   ]
  },
  {
   "cell_type": "markdown",
   "id": "associate-ladder",
   "metadata": {},
   "source": [
    "# Xarray"
   ]
  },
  {
   "cell_type": "code",
   "execution_count": null,
   "id": "studied-detective",
   "metadata": {},
   "outputs": [],
   "source": [
    "import numpy as np\n",
    "import matplotlib.pyplot as plt\n",
    "import xarray as xr\n",
    "import dask"
   ]
  },
  {
   "cell_type": "markdown",
   "id": "lucky-annual",
   "metadata": {},
   "source": [
    "As written on the Xarray webpage: \"Xarray introduces labels in the form of dimensions, coordinates and attributes on top of raw NumPy-like multidimensional arrays, which allows for a more intuitive, more concise, and less error-prone developer experience\". It not only keeps track of dimensions and labels, but also uses them."
   ]
  },
  {
   "cell_type": "markdown",
   "id": "focused-semiconductor",
   "metadata": {},
   "source": [
    "## Zarr"
   ]
  },
  {
   "cell_type": "markdown",
   "id": "necessary-rapid",
   "metadata": {},
   "source": [
    "give basic info, examples"
   ]
  },
  {
   "cell_type": "markdown",
   "id": "bulgarian-bowling",
   "metadata": {},
   "source": [
    "# XarraySimlab: an extension to the Xarray tool"
   ]
  },
  {
   "cell_type": "markdown",
   "id": "american-kernel",
   "metadata": {},
   "source": [
    "XarraySimlab is a framework enabling an easier and more instinctive model creation while also being an Xarray extension for running models and simulations. "
   ]
  },
  {
   "cell_type": "markdown",
   "id": "qualified-wichita",
   "metadata": {},
   "source": [
    "By combining Xarray and XarraySimlab, you will notice that the Fastscape setup is solely based on those frameworks. Analysis done on Fastscape models is only possible through Xarray/XarraySimlab."
   ]
  },
  {
   "cell_type": "markdown",
   "id": "inappropriate-cycle",
   "metadata": {},
   "source": [
    "datasets, why xarray simlab, show .py file, mechanics of the tool, functions, boundary conditions, batch."
   ]
  },
  {
   "cell_type": "markdown",
   "id": "shaped-header",
   "metadata": {},
   "source": [
    "*We will use the FastScape basic model here, a more detailed explanation of Fastscape will be done later.*"
   ]
  },
  {
   "cell_type": "code",
   "execution_count": null,
   "id": "informative-restoration",
   "metadata": {},
   "outputs": [],
   "source": [
    "import xsimlab as xs\n",
    "import scipy.signal as sg #tool for signals, fundamental python algorythm\n",
    "\n",
    "from fastscape.models import basic_model\n",
    "\n",
    "# plt.style.use(\"dark_background\")\n",
    "%load_ext xsimlab.ipython"
   ]
  },
  {
   "cell_type": "markdown",
   "id": "bulgarian-vegetation",
   "metadata": {},
   "source": [
    "## The basic model"
   ]
  },
  {
   "cell_type": "markdown",
   "id": "english-acceptance",
   "metadata": {},
   "source": [
    "In Fastscape, the basic model is based on the Stream Power Law (SPL)."
   ]
  },
  {
   "cell_type": "markdown",
   "id": "complex-horse",
   "metadata": {},
   "source": [
    "### Stream Power Law"
   ]
  },
  {
   "cell_type": "markdown",
   "id": "widespread-kenya",
   "metadata": {},
   "source": [
    "To understand what we will do next, we will start with a small reminder about the SPL:"
   ]
  },
  {
   "cell_type": "markdown",
   "id": "southwest-material",
   "metadata": {},
   "source": [
    "$ E = K*A^m*S^n $"
   ]
  },
  {
   "cell_type": "markdown",
   "id": "single-activity",
   "metadata": {},
   "source": [
    "- E = erosion rate\n",
    "- K = erodability coefficient\n",
    "- A = drainage area\n",
    "- S = slope\n",
    "- m = coefficient for drainage area\n",
    "- n = coefficient for slope\n",
    "\n",
    "Steady state is assumed when $m/n = 0.5$."
   ]
  },
  {
   "cell_type": "markdown",
   "id": "worse-glory",
   "metadata": {},
   "source": [
    "### Model characteristics and mechanics"
   ]
  },
  {
   "cell_type": "code",
   "execution_count": null,
   "id": "representative-palestinian",
   "metadata": {},
   "outputs": [],
   "source": [
    "model = basic_model.drop_processes('diffusion') # we only want the basics of basics. Like this we drop the diffusion equation, which will help to understand the behaviour."
   ]
  },
  {
   "cell_type": "markdown",
   "id": "powered-publicity",
   "metadata": {},
   "source": [
    "In XarraySimlab, you can update or drop existing processes in the model. Here we drop the process \"diffusion\" to make the next examples easier to understand. "
   ]
  },
  {
   "cell_type": "markdown",
   "id": "specific-picture",
   "metadata": {},
   "source": [
    "So what's in model now? Let's see..."
   ]
  },
  {
   "cell_type": "code",
   "execution_count": null,
   "id": "positive-passport",
   "metadata": {},
   "outputs": [],
   "source": [
    "model"
   ]
  },
  {
   "cell_type": "code",
   "execution_count": null,
   "id": "natural-necessity",
   "metadata": {},
   "outputs": [],
   "source": [
    "model.visualize()\n",
    "#model.visualize(show_inputs = True)\n",
    "#model.visualize(show_variables = True)"
   ]
  },
  {
   "cell_type": "code",
   "execution_count": null,
   "id": "extended-yemen",
   "metadata": {},
   "outputs": [],
   "source": [
    "basic_model.topography"
   ]
  },
  {
   "cell_type": "markdown",
   "id": "bored-circulation",
   "metadata": {},
   "source": [
    "### Model set-up"
   ]
  },
  {
   "cell_type": "markdown",
   "id": "stylish-craps",
   "metadata": {},
   "source": [
    "After looking at what is inside, we can run the model. For that, we need to set it up. We will now do a basic setup with neutral values. Before setting up the model, some pre-determined parameters are usually needed."
   ]
  },
  {
   "cell_type": "code",
   "execution_count": null,
   "id": "worldwide-progressive",
   "metadata": {},
   "outputs": [],
   "source": [
    "tf = 10e6\n",
    "U = 1e-3\n",
    "\n",
    "nx = 101\n",
    "ny = 51\n",
    "xl = 10e3\n",
    "yl = 5e3\n",
    "\n",
    "x,y = np.meshgrid(np.linspace(0,xl,nx),np.linspace(0,yl,ny))\n",
    "k = 0.1e-5+x/xl*1e-5"
   ]
  },
  {
   "cell_type": "code",
   "execution_count": null,
   "id": "statutory-rings",
   "metadata": {},
   "outputs": [],
   "source": [
    "# %create_setup model -d -v\n",
    "import xsimlab as xs\n",
    "\n",
    "ds_in = xs.create_setup(\n",
    "    model=model,\n",
    "    clocks={'time': np.linspace(0,tf,101),\n",
    "           \"out\": np.linspace(0, tf, 51)},\n",
    "    master_clock=\"time\",\n",
    "    input_vars={\n",
    "        # nb. of grid nodes in (y, x)\n",
    "        'grid__shape': [ny, nx],\n",
    "        # total grid length in (y, x)\n",
    "        'grid__length': [yl, xl],\n",
    "        # node status at borders\n",
    "        'boundary__status': 'fixed_value',\n",
    "        # uplift rate\n",
    "        'uplift__rate': U,\n",
    "        # random seed\n",
    "        'init_topography__seed': None, #we can also have an initial topography\n",
    "        # bedrock channel incision coefficient\n",
    "        'spl__k_coef': xr.DataArray(k, dims = ('y','x')),\n",
    "        # drainage area exponent\n",
    "        'spl__area_exp': 0.4,\n",
    "        # slope exponent\n",
    "        'spl__slope_exp': 1,\n",
    "    },\n",
    "    output_vars={'topography__elevation':'time',\n",
    "                'drainage__area': 'time'}\n",
    ")\n"
   ]
  },
  {
   "cell_type": "markdown",
   "id": "ideal-string",
   "metadata": {},
   "source": [
    "*clocks*: It is as it says, our way to create time. We can have multiple clocks, but we need one \"master clock\" on which the model will run. (i.e., coordinates for the simulation time steps and variable snapshot saving) and output variables.\n",
    "\n",
    "*outputs*: \"out_vars\" are the parameters we want to work with. They are defined on the .py file, so we have to call onto them while creating our model. You can have  \n",
    "\n",
    "*ds_in* and *ds_out*: "
   ]
  },
  {
   "cell_type": "markdown",
   "id": "forty-houston",
   "metadata": {},
   "source": [
    "What will we use now? ds_in!"
   ]
  },
  {
   "cell_type": "code",
   "execution_count": null,
   "id": "greater-finding",
   "metadata": {},
   "outputs": [],
   "source": [
    "ds_in"
   ]
  },
  {
   "cell_type": "markdown",
   "id": "ancient-appointment",
   "metadata": {},
   "source": [
    "ds_in is what we call every array included in the values we put into the model. To how they work and what they mean, we have to examine the table."
   ]
  },
  {
   "cell_type": "markdown",
   "id": "documented-delicious",
   "metadata": {},
   "source": [
    "ds_in, take yout time, put graphs, make a plot of clock..."
   ]
  },
  {
   "cell_type": "code",
   "execution_count": null,
   "id": "strange-mission",
   "metadata": {},
   "outputs": [],
   "source": [
    "#zarr saves your run into a zarr file in your directory. It is better if your computer does not have a lot of RAM memory (like 16 GB) to leave it clean.\n",
    "\n",
    "import zarr\n",
    "\n",
    "zgroup = zarr.group(\"Output1.zarr\", overwrite=True)\n",
    "\n",
    "with model, xs.monitoring.ProgressBar():\n",
    "    ds_out = ds_in.xsimlab.run(store=zgroup)\n",
    "    \n",
    "ds_out"
   ]
  },
  {
   "cell_type": "code",
   "execution_count": null,
   "id": "lasting-approach",
   "metadata": {},
   "outputs": [],
   "source": [
    "ds_out.topography__elevation\n",
    "#if you want even more details add a ? at the end"
   ]
  },
  {
   "cell_type": "markdown",
   "id": "considered-brush",
   "metadata": {},
   "source": [
    "Finding specific values:"
   ]
  },
  {
   "cell_type": "code",
   "execution_count": null,
   "id": "decent-drilling",
   "metadata": {},
   "outputs": [],
   "source": [
    "a = ds_out.topography__elevation.values.min()\n",
    "b = ds_out.topography__elevation.values.mean()\n",
    "c = ds_out.topography__elevation.values.max()\n",
    "print(a, b, c)"
   ]
  },
  {
   "cell_type": "code",
   "execution_count": null,
   "id": "minus-genre",
   "metadata": {},
   "outputs": [],
   "source": [
    "ds_out.topography__elevation.mean(('x','y')).plot()"
   ]
  },
  {
   "cell_type": "code",
   "execution_count": null,
   "id": "amber-beads",
   "metadata": {},
   "outputs": [],
   "source": [
    "fig,ax = plt.subplots(nrows=2, ncols=1, figsize=(15,10))\n",
    "\n",
    "ds_out.topography__elevation.mean('x').plot(ax = ax[0], x = 'y');\n",
    "ds_out.topography__elevation.mean('x').plot.line(ax = ax[1], x = 'y', add_legend = False);"
   ]
  },
  {
   "cell_type": "code",
   "execution_count": null,
   "id": "disabled-beauty",
   "metadata": {},
   "outputs": [],
   "source": [
    "fig,ax = plt.subplots(nrows=2, ncols=1, figsize=(15,10))\n",
    "\n",
    "ds_out.topography__elevation.mean('x').plot(ax = ax[0], x = 'time');\n",
    "ds_out.topography__elevation.mean('x').plot.line(ax = ax[1], x = 'time', add_legend = False);"
   ]
  },
  {
   "cell_type": "raw",
   "id": "patent-snapshot",
   "metadata": {},
   "source": [
    "fig,ax = plt.subplots(nrows=2, ncols=1, figsize=(15,10))\n",
    "\n",
    "ds_out.topography__elevation.mean('x').plot(ax = ax[0], x = 'x');\n",
    "ds_out.topography__elevation.mean('x').plot.line(ax = ax[1], x = 'x', add_legend = False);"
   ]
  },
  {
   "cell_type": "markdown",
   "id": "agricultural-slovak",
   "metadata": {},
   "source": [
    "**Selecting only one scenario**: It is possible to select only one, or specific time steps or scenarios and not have all at the same time. For this, .sel and .isel are very useful."
   ]
  },
  {
   "cell_type": "markdown",
   "id": "exposed-butter",
   "metadata": {},
   "source": [
    "#### Very useful tools: .sel and .isel\n",
    "\n",
    "These two features are indexing options. You will use both depending on your needs and preferences."
   ]
  },
  {
   "cell_type": "markdown",
   "id": "premier-hierarchy",
   "metadata": {},
   "source": [
    "- isel: Returns a new dataset with each array indexed along the specified dimension(s). For example, you want the middle point in an array of 50 numbers in dimension x: .isel(x = 24)\n",
    "\n",
    "- sel: Return a new DataArray whose data is given by selecting index labels along the specified dimension(s). For the same example, you will need the label of that point, which you have previously defined: .sel(x = middle).\n",
    "*Opposed to .isel, we put labels as indexers instead of numbers. It is powerful, because if you are not sure what number you are searching for, indexing through labels helps you understand data best. Be careful as usually, you will not be able to interchange both writing systems.*"
   ]
  },
  {
   "cell_type": "markdown",
   "id": "horizontal-jacket",
   "metadata": {},
   "source": [
    "##### Examples"
   ]
  },
  {
   "cell_type": "code",
   "execution_count": null,
   "id": "olive-smell",
   "metadata": {},
   "outputs": [],
   "source": [
    "ds_out.time"
   ]
  },
  {
   "cell_type": "code",
   "execution_count": null,
   "id": "swedish-indian",
   "metadata": {},
   "outputs": [],
   "source": [
    "ds_out.time.isel(time = 50)"
   ]
  },
  {
   "cell_type": "code",
   "execution_count": null,
   "id": "documented-bradford",
   "metadata": {},
   "outputs": [],
   "source": [
    "ds_out.time.sel(time = 5e+06)"
   ]
  },
  {
   "cell_type": "code",
   "execution_count": null,
   "id": "major-biography",
   "metadata": {},
   "outputs": [],
   "source": [
    "ds_out.topography__elevation.isel(time=-1).plot(size=5, aspect=2)"
   ]
  },
  {
   "cell_type": "code",
   "execution_count": null,
   "id": "descending-stylus",
   "metadata": {},
   "outputs": [],
   "source": [
    "ds_out.topography__elevation.sel(time=10e6).plot(size=5)#, aspect=2)"
   ]
  },
  {
   "cell_type": "markdown",
   "id": "chief-center",
   "metadata": {},
   "source": [
    "You can also select a \"slice\" of our map using sel with the command below:"
   ]
  },
  {
   "cell_type": "code",
   "execution_count": null,
   "id": "superior-wichita",
   "metadata": {},
   "outputs": [],
   "source": [
    "# slices inbetween x and y min and max values. \n",
    "#We have a smaller array in between the x an y min and max values\n",
    "ds_out.topography__elevation.sel(x=slice(4000,6000), y=slice(2000,4000))"
   ]
  },
  {
   "cell_type": "markdown",
   "id": "miniature-negative",
   "metadata": {},
   "source": [
    "And plot it!"
   ]
  },
  {
   "cell_type": "code",
   "execution_count": null,
   "id": "sporting-macintosh",
   "metadata": {},
   "outputs": [],
   "source": [
    "(ds_out.topography__elevation.sel(x=slice(4000,6000), y=slice(2000,4000))).sel(time = 10e6).plot()"
   ]
  },
  {
   "cell_type": "markdown",
   "id": "computational-gibson",
   "metadata": {},
   "source": [
    "Last but not least: dot-chains! As mentioned in the introduction to Xarray, dots are a powerful tool to create complicated results in one line. You can attribute an attribute of an attribute etc...\n",
    "\n",
    "Example:"
   ]
  },
  {
   "cell_type": "code",
   "execution_count": null,
   "id": "pretty-ambassador",
   "metadata": {},
   "outputs": [],
   "source": [
    "ds_out.topography__elevation.max('x').isel(time=-1).plot(size=5)#, aspect=2)"
   ]
  },
  {
   "cell_type": "code",
   "execution_count": null,
   "id": "competent-election",
   "metadata": {},
   "outputs": [],
   "source": [
    "ds_out.topography__elevation.isel(time=-1).plot.line(x = 'x', size=5, aspect=2, add_legend = False);"
   ]
  },
  {
   "cell_type": "code",
   "execution_count": null,
   "id": "lyric-closure",
   "metadata": {},
   "outputs": [],
   "source": [
    "ds_out.topography__elevation.isel(time=-1).isel(y=25).plot.line(x = 'x', size=5, aspect=2);"
   ]
  },
  {
   "cell_type": "code",
   "execution_count": null,
   "id": "alternative-master",
   "metadata": {},
   "outputs": [],
   "source": [
    "ds_out.topography__elevation.isel(time=-1).isel(y=25).plot.line(x = 'x', size=5, aspect=2);"
   ]
  },
  {
   "cell_type": "markdown",
   "id": "outdoor-compilation",
   "metadata": {},
   "source": [
    "## Going further: Some tips and tricks about mechanics"
   ]
  },
  {
   "cell_type": "markdown",
   "id": "scientific-pocket",
   "metadata": {},
   "source": [
    "### .differentiate and .integrate: useful derivative and integration tools\n",
    "\n",
    "It automatically uses the derivative/integrates of our functions/arrays. An example of it will be shown while plotting fluxes during the Regolith part."
   ]
  },
  {
   "cell_type": "markdown",
   "id": "expired-possible",
   "metadata": {},
   "source": [
    "### Dask\n",
    "\n",
    "A library for parallel computing in Python. For more information, go read the docs https://docs.dask.org/en/stable/. Dask is a box set where you pur your arrays in. You basically put boxes into bigger boxes for better comprehension and organisation when needed."
   ]
  },
  {
   "cell_type": "markdown",
   "id": "collect-speech",
   "metadata": {},
   "source": [
    "### Zarr\n",
    "\n",
    "It saves datasets to saving what is called a \"zarr group\". If we divided our datasets into dask boxes, zarr will save data under these boxes. If not, zarr will determine automatically how to store the data sets (it will set its own boxes). \n",
    "\n",
    "For more information: https://docs.xarray.dev/en/stable/generated/xarray.Dataset.to_zarr.html or https://zarr.readthedocs.io/en/stable/."
   ]
  },
  {
   "cell_type": "markdown",
   "id": "general-jones",
   "metadata": {},
   "source": [
    "### Boundary conditions in Fastscape\n",
    "\n",
    "Boundaries in Fastscape are the boundaries of the model, which means each side of our grid. There are 3 options for boundary conditions:\n",
    "- fixed_value: at least one border need to be fixed. It is the minimum needed to make the model usable. The boundary is closed and nothing happens across it.\n",
    "- looped: this means that your border is not \"finished\" and starts again on the adjacent side. When we loop, we must loop two opposing borders for it to work.\n",
    "- core: The boundary is open, which means, that our landscape continues across the boundary. Small note - if two opposing boundaries are defined as cores, the borders will have periodic conditions due to some Fastscape properties. \n"
   ]
  },
  {
   "cell_type": "markdown",
   "id": "objective-bicycle",
   "metadata": {},
   "source": [
    "### Batch"
   ]
  },
  {
   "cell_type": "markdown",
   "id": "negative-grass",
   "metadata": {},
   "source": [
    "With XarraySimlab, it is possible to make multiple runs at the same time, and will be saved as one data array. It is very useful for parameter analysis and comparing scenarios. You can run batches while changing only one parameter, or you can change multiple parameters, and scenarios will run like matrices, so every possible combination will be made.\n",
    "\n",
    "However, this also means that with a lot of different values for parameters, the run will take longer to finish. Take into account that the time will increase exponentially: if you have 1 parameter with 4 values, then you run 4 models. If you have 2 parameters with 4 values, you already have 16 runs. If you add more, you can increase your model runs into three or four digits very fast (ex: $7*7*7*7$...)."
   ]
  },
  {
   "cell_type": "markdown",
   "id": "synthetic-granny",
   "metadata": {},
   "source": [
    "### Movie making"
   ]
  },
  {
   "cell_type": "markdown",
   "id": "limited-diagram",
   "metadata": {},
   "source": [
    "It is a fun and intesresting way to show results. Usually, it also helps understand behaviours that cannot be depicted as static plots. There are multiple ways to do videos/movies of our work, here two possibilities. \n",
    "- One consists of using TopoVizd3D, where we can play with the figure, make it run in loop, stop at certain points and analyse our results interactively.\n",
    "- The second is less glamourous: saving multiple figures into one file and while using a movie maker app, create an image sequence which, ultimately, results in a video.\n",
    "Both will be adressed in the next notebooks."
   ]
  },
  {
   "cell_type": "markdown",
   "id": "dental-eligibility",
   "metadata": {},
   "source": [
    "# Fastscape documentation"
   ]
  },
  {
   "cell_type": "markdown",
   "id": "domestic-collar",
   "metadata": {},
   "source": [
    "A small example about where and how to find informations concerning Fastscape models and how to use it. Fastscape has a GitHub, documentation, forums and is updated frequently. You will find information about it under https://fastscape.readthedocs.io/en/latest/index.html."
   ]
  },
  {
   "cell_type": "markdown",
   "id": "increased-statement",
   "metadata": {},
   "source": [
    "When looking for models, this is where to go: https://fastscape.readthedocs.io/en/latest/models.html. You will find the bootstrap model (basic minimun for LEM), basic model (standart model), sediment model and marine models. New models can be added too.  All these have different set of equations they are based on, which means that they are put together with different processes. You can check for processes here: https://fastscape.readthedocs.io/en/latest/processes.html."
   ]
  },
  {
   "cell_type": "markdown",
   "id": "mysterious-world",
   "metadata": {},
   "source": [
    "When you want to know more about a process you use, it interesting to check out what is inside the process. There are multiple ways, for example looking at the .py file, or you can click on the processes in the documentation. For exemple, if you want to know more about the processes \"SurfaceTopography\" which is used in the basic model you go here: https://fastscape.readthedocs.io/en/latest/_api_generated/fastscape.processes.SurfaceTopography.html#fastscape.processes.SurfaceTopography"
   ]
  },
  {
   "cell_type": "markdown",
   "id": "expanded-button",
   "metadata": {},
   "source": [
    "![OP](./assets/tbc.png)"
   ]
  },
  {
   "cell_type": "code",
   "execution_count": null,
   "id": "empty-morocco",
   "metadata": {},
   "outputs": [],
   "source": []
  }
 ],
 "metadata": {
  "kernelspec": {
   "display_name": "Python 3 (ipykernel)",
   "language": "python",
   "name": "python3"
  },
  "language_info": {
   "codemirror_mode": {
    "name": "ipython",
    "version": 3
   },
   "file_extension": ".py",
   "mimetype": "text/x-python",
   "name": "python",
   "nbconvert_exporter": "python",
   "pygments_lexer": "ipython3",
   "version": "3.10.8"
  }
 },
 "nbformat": 4,
 "nbformat_minor": 5
}

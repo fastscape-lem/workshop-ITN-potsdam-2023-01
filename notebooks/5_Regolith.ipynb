{
 "cells": [
  {
   "cell_type": "markdown",
   "id": "innocent-lingerie",
   "metadata": {},
   "source": [
    "# Regolith formation: Your turn!"
   ]
  },
  {
   "cell_type": "code",
   "execution_count": null,
   "id": "large-album",
   "metadata": {},
   "outputs": [],
   "source": [
    "import numpy as np\n",
    "import xsimlab as xs\n",
    "import matplotlib.pyplot as plt\n",
    "#import matplotlib.colors as mcolors\n",
    "import xarray as xr\n",
    "import dask\n",
    "import scipy.signal as sg\n",
    "import zarr\n",
    "\n",
    "# plt.style.use(\"dark_background\")\n",
    "%load_ext xsimlab.ipython"
   ]
  },
  {
   "cell_type": "code",
   "execution_count": null,
   "id": "solid-transport",
   "metadata": {},
   "outputs": [],
   "source": [
    "from duricrust import regolith_model"
   ]
  },
  {
   "cell_type": "code",
   "execution_count": null,
   "id": "peaceful-demonstration",
   "metadata": {},
   "outputs": [],
   "source": [
    "model = regolith_model"
   ]
  },
  {
   "cell_type": "code",
   "execution_count": null,
   "id": "brown-employee",
   "metadata": {},
   "outputs": [],
   "source": [
    "model.visualize(show_inputs=True)"
   ]
  },
  {
   "cell_type": "markdown",
   "id": "helpful-cowboy",
   "metadata": {},
   "source": [
    "## Uplift/Precipitation exercise\n",
    "\n",
    "Learn how to use the model. We will change values in uplift and precipitation, and analyse them. Goal: Look at constant U and P values and compare with periodic U and P values. For this, we will use the periodic square function."
   ]
  },
  {
   "cell_type": "markdown",
   "id": "biological-breakfast",
   "metadata": {},
   "source": [
    "#### Step 1: Analaysis of the regolith model"
   ]
  },
  {
   "cell_type": "code",
   "execution_count": null,
   "id": "sharp-repair",
   "metadata": {},
   "outputs": [],
   "source": []
  },
  {
   "cell_type": "markdown",
   "id": "acquired-opening",
   "metadata": {},
   "source": [
    "#### Step 2: What are the necessary parameters to run the model?"
   ]
  },
  {
   "cell_type": "code",
   "execution_count": null,
   "id": "developed-vancouver",
   "metadata": {},
   "outputs": [],
   "source": [
    "import scipy.signal as sg\n",
    "\n"
   ]
  },
  {
   "cell_type": "markdown",
   "id": "major-flower",
   "metadata": {},
   "source": [
    "#### Step 3: fill in the blanks!"
   ]
  },
  {
   "cell_type": "code",
   "execution_count": null,
   "id": "balanced-bahrain",
   "metadata": {},
   "outputs": [],
   "source": [
    "%create_setup model -d -v"
   ]
  },
  {
   "cell_type": "markdown",
   "id": "accepting-garlic",
   "metadata": {},
   "source": [
    "#### Step 4: How many values are in the uplift rate array?"
   ]
  },
  {
   "cell_type": "code",
   "execution_count": null,
   "id": "seasonal-fluid",
   "metadata": {},
   "outputs": [],
   "source": []
  },
  {
   "cell_type": "markdown",
   "id": "viral-paste",
   "metadata": {},
   "source": [
    "#### Step 5: run the model + store it"
   ]
  },
  {
   "cell_type": "code",
   "execution_count": null,
   "id": "correct-cassette",
   "metadata": {},
   "outputs": [],
   "source": [
    "zgroup = zarr.group(\"regolith.zarr\", overwrite=True)\n",
    "\n",
    "with model, xs.monitoring.ProgressBar():\n",
    "    ds_out = ds_in.xsimlab.run(store=zgroup)\n",
    "    \n",
    "ds_out"
   ]
  },
  {
   "cell_type": "markdown",
   "id": "missing-workstation",
   "metadata": {},
   "source": [
    "#### Step 5: Parameter check: What can we analyse?"
   ]
  },
  {
   "cell_type": "code",
   "execution_count": null,
   "id": "subsequent-adrian",
   "metadata": {},
   "outputs": [],
   "source": []
  },
  {
   "cell_type": "code",
   "execution_count": null,
   "id": "broad-prime",
   "metadata": {},
   "outputs": [],
   "source": []
  },
  {
   "cell_type": "code",
   "execution_count": null,
   "id": "crucial-snake",
   "metadata": {},
   "outputs": [],
   "source": []
  },
  {
   "cell_type": "code",
   "execution_count": null,
   "id": "competitive-reconstruction",
   "metadata": {},
   "outputs": [],
   "source": []
  },
  {
   "cell_type": "code",
   "execution_count": null,
   "id": "lovely-physiology",
   "metadata": {},
   "outputs": [],
   "source": []
  },
  {
   "cell_type": "markdown",
   "id": "inclusive-rubber",
   "metadata": {},
   "source": [
    "#### Step 6: PLOTS, lots of (nice) plots"
   ]
  },
  {
   "cell_type": "markdown",
   "id": "substantial-version",
   "metadata": {},
   "source": [
    "##### Plot 1: Uplift and precipitation through time, in 2 boxes."
   ]
  },
  {
   "cell_type": "code",
   "execution_count": null,
   "id": "fuzzy-refund",
   "metadata": {},
   "outputs": [],
   "source": []
  },
  {
   "cell_type": "markdown",
   "id": "furnished-ideal",
   "metadata": {},
   "source": [
    "##### Plot 2: Compare uplift with topography"
   ]
  },
  {
   "cell_type": "code",
   "execution_count": null,
   "id": "defined-economy",
   "metadata": {},
   "outputs": [],
   "source": []
  },
  {
   "cell_type": "markdown",
   "id": "certified-relative",
   "metadata": {},
   "source": [
    "##### Plot 3: On 1 plot, mean topography, mean weatherring front height and mean regolith thickness through time"
   ]
  },
  {
   "cell_type": "code",
   "execution_count": null,
   "id": "solved-summer",
   "metadata": {},
   "outputs": [],
   "source": []
  },
  {
   "cell_type": "markdown",
   "id": "returning-wilson",
   "metadata": {},
   "source": [
    "##### Plot 4: Plot a profile, with topography, regolith thickness and water table position at the last time step."
   ]
  },
  {
   "cell_type": "code",
   "execution_count": null,
   "id": "limited-garlic",
   "metadata": {},
   "outputs": [],
   "source": [
    "from mpl_toolkits.axes_grid1.inset_locator import inset_axes\n",
    "from tqdm.auto import tqdm\n",
    "\n",
    "out=-1\n",
    "fig,ax = plt.subplots(nrows=1, ncols=1, figsize=(9,3))\n",
    "\n",
    "# The actual plotting\n",
    "\n",
    "\n",
    "#Fluffing\n",
    "ax.text(430, ds_out.regolith__water_table.isel(out=out).isel(x=10)-10, 'Water Table', color=\"red\")\n",
    "ax.arrow(400, ds_out.regolith__water_table.isel(out=out).isel(x=10),35,-6, width = 1, length_includes_head = True)\n",
    "\n",
    "nx2 = int(len(ds_out.x)/2)\n",
    "ax.text(ds_out.x[nx2]+55, ds_out.topography__elevation.isel(out=out)[nx2]+4, 'Surface Topography', color=\"darkgreen\")\n",
    "ax.arrow(ds_out.x[nx2]+55, ds_out.topography__elevation.isel(out=out)[nx2]+5, -10, -5,\n",
    "                    width = 1, length_includes_head = True)\n",
    "ax.text(ds_out.x[-20]-510, ds_out.regolith__weathering_front.isel(out=out)[-20]-29, 'Weathering Front', color=\"darkorange\")\n",
    "ax.arrow(ds_out.x[-10]-510, ds_out.regolith__weathering_front.isel(out=out)[-40]-10, -10, -6, width = 1, length_includes_head = True)\n",
    "    \n",
    "ax.text(ds_out.x[-20], ymin+23, f'Time = {(ds_out.out[-1]/1e6).values:.2f} Myr')\n",
    "\n",
    "#Axis definition and space allocation\n"
   ]
  },
  {
   "cell_type": "markdown",
   "id": "active-apollo",
   "metadata": {},
   "source": [
    "##### Plot 5: Same, but at different time steps. Make it 6."
   ]
  },
  {
   "cell_type": "code",
   "execution_count": null,
   "id": "utility-donna",
   "metadata": {},
   "outputs": [],
   "source": []
  },
  {
   "cell_type": "markdown",
   "id": "comparative-cotton",
   "metadata": {},
   "source": [
    "##### Plot 6: A video of the profile through time, with time link."
   ]
  },
  {
   "cell_type": "code",
   "execution_count": null,
   "id": "mobile-lobby",
   "metadata": {},
   "outputs": [],
   "source": [
    "from mpl_toolkits.axes_grid1.inset_locator import inset_axes\n",
    "from tqdm.auto import tqdm\n",
    "#The movie\n",
    "\n",
    "fig,ax = plt.subplots(nrows=2, ncols=1, figsize=(10,6), gridspec_kw={'height_ratios': [3, 1]})\n",
    "\n",
    "ymin = ds_out.regolith__weathering_front.min()\n",
    "ymax = ds_out.topography__elevation.max()\n",
    "\n",
    "for i, out in tqdm(enumerate(ds_out.out[:])):\n",
    "    x,y = np.meshgrid(ds_out.x,ds_out.y)\n",
    "    for k in range(int(ds_out.mesh__nx)):\n",
    "        y[:,k] = (\n",
    "            y[:,k]*ds_out.regolith__thickness.sel(out=out).values[k]\n",
    "            + ds_out.regolith__weathering_front.sel(out=out).values[k]\n",
    "        )\n",
    "    ax[0].clear()\n",
    "    ax[0].set_ylim(ymin, ymax)\n",
    "\n",
    "#Plotting\n",
    "    \n",
    "\n",
    "#Fluffing up the graphs    \n",
    "    \n",
    "    ax[0].text(10, ds_out.regolith__water_table.sel(out=out)[0]+20, 'Base Level')\n",
    "    ax[0].arrow(10, ds_out.regolith__water_table.sel(out=out)[0]+17, -10, -17, width = 1, length_includes_head = True)\n",
    "    nx2 = int(len(ds_out.x)/2)\n",
    "    if i<150:\n",
    "        ax[0].text(ds_out.x[nx2]+10, ds_out.topography__elevation.sel(out=out)[nx2]+20, 'Surface Topography')\n",
    "        ax[0].arrow(ds_out.x[nx2]+10, ds_out.topography__elevation.sel(out=out)[nx2]+17, -10, -17,\n",
    "                    width = 1, length_includes_head = True)\n",
    "    ax[0].text(ds_out.x[10]+10, ds_out.regolith__water_table.sel(out=out)[10]-27, 'Water Table')\n",
    "    ax[0].arrow(ds_out.x[10]+10, ds_out.regolith__water_table.sel(out=out)[10]-17, -10, 17, width = 1, length_includes_head = True)\n",
    "    ax[0].text(ds_out.x[-20]+10, ds_out.regolith__weathering_front.sel(out=out)[-20]-27, 'Weathering Front')\n",
    "    ax[0].arrow(ds_out.x[-20]+10, ds_out.regolith__weathering_front.sel(out=out)[-20]-17, -10, 17, width = 1, length_includes_head = True)\n",
    "    \n",
    "    ax[0].text(ds_out.x[-25], ymin+10, f'Time = {(ds_out.out[i]/1e6).values:.2f} Myr')\n",
    "    \n",
    "    ax[0].xaxis.tick_top()\n",
    "    ax[0].xaxis.set_label_position('top') \n",
    "    ax[0].set_xlabel('Distance (m)')\n",
    "    ax[0].set_ylabel('Height (m)')\n",
    "\n",
    "    ax[0].text(ds_out.x[-50], ymin+30, 'Basement')\n",
    "    if i>100: ax[0].text(ds_out.x[-65], ymin+90, 'Regolith')\n",
    "    \n",
    "    ax[1].clear()\n",
    "    ax[1].plot(ds_out.out[:i]/1e6, ds_out.uplift__rate.sel(time=ds_out.out)[:i]*1e6)\n",
    "    ax[1].text(ds_out.out[i]/1e6,ds_out.uplift__rate.sel(time=ds_out.out)[i]*1e6, 'x', ha='center', va='center')\n",
    "    \n",
    "    ax[1].set_xlim(0, ds_out.out[-1]/1e6)\n",
    "    ax[1].set_ylim(-ds_out.uplift__rate.max()*0.1e6, ds_out.uplift__rate.max()*2.1e6)\n",
    "    ax[1].set_xlabel('Time (Myr)')\n",
    "    ax[1].set_ylabel('Uplift Rate (m/Myr)')\n",
    "\n",
    "    fig.savefig('Frames/Frame'+str(i)+'.png', dpi=150) #dpi is the resolution! nb of frames is in my linspace 0 tfinal 101!\n"
   ]
  },
  {
   "cell_type": "markdown",
   "id": "assigned-adventure",
   "metadata": {},
   "source": [
    "##### Plot 7: Omega and Gamma through time"
   ]
  },
  {
   "cell_type": "markdown",
   "id": "honest-haiti",
   "metadata": {},
   "source": [
    "What does it mean? What can you see through these values? Is it what we observe?"
   ]
  },
  {
   "cell_type": "code",
   "execution_count": null,
   "id": "subsequent-earthquake",
   "metadata": {},
   "outputs": [],
   "source": [
    "fig,ax = plt.subplots(nrows=2, ncols=1, figsize=(10,6))"
   ]
  },
  {
   "cell_type": "markdown",
   "id": "boxed-harvard",
   "metadata": {},
   "source": [
    "Comparing Gamma to the Gamma/Omega ratio will give you some part of the answer. We can create this comparison by calculating and adding attributes to a plot line:"
   ]
  },
  {
   "cell_type": "code",
   "execution_count": null,
   "id": "conventional-pricing",
   "metadata": {},
   "outputs": [],
   "source": []
  },
  {
   "cell_type": "markdown",
   "id": "contemporary-medicare",
   "metadata": {},
   "source": [
    "When Gamma is smaller than the ratio: rego thickest at the base."
   ]
  },
  {
   "cell_type": "markdown",
   "id": "speaking-citation",
   "metadata": {},
   "source": [
    "##### Plot 8: Weathering age"
   ]
  },
  {
   "cell_type": "markdown",
   "id": "immediate-headline",
   "metadata": {},
   "source": [
    "If we want to check out the next parts, we will need another model including duricrusts. However, we will determine parameters so that no duricrust will form."
   ]
  },
  {
   "cell_type": "code",
   "execution_count": null,
   "id": "underlying-draft",
   "metadata": {},
   "outputs": [],
   "source": [
    "from duricrust import water_table_model\n",
    "WTmodel = water_table_model"
   ]
  },
  {
   "cell_type": "code",
   "execution_count": null,
   "id": "accessory-shelter",
   "metadata": {},
   "outputs": [],
   "source": [
    "import scipy.signal as sg\n",
    "\n",
    "tfinal = 10e6 #time to the end\n",
    "nstep = 10001 #time step\n",
    "tim = np.linspace(0, tfinal, nstep)\n",
    "U0 = 50e-6\n",
    "nhumps = 10\n",
    "U = U0 * (1 + sg.square(np.linspace(0, 2 * np.pi * nhumps, nstep), duty=0.5)) / 2 \n",
    "U = xr.DataArray(U, dims=\"time\") #to specify the dimension we want to use, so he can work with it in the right dimensions.\n",
    "U = U/U.mean()*U0\n",
    "print('mean uplift rate', U.mean().values)\n",
    "\n",
    "P0 = 5\n",
    "P = np.ones(nstep)\n",
    "P = xr.DataArray(P, dims=\"time\")\n",
    "P = P/P.mean()*P0\n",
    "print('mean precipitation rate', P.mean().values)"
   ]
  },
  {
   "cell_type": "code",
   "execution_count": null,
   "id": "public-pricing",
   "metadata": {},
   "outputs": [],
   "source": [
    "# %create_setup WTmodel -d -v\n",
    "import xsimlab as xs\n",
    "\n",
    "ds_in = xs.create_setup(\n",
    "    model=WTmodel,\n",
    "    clocks={\"time\": np.linspace(0, tfinal, nstep),\n",
    "            \"out\": np.linspace(0, tfinal, 201)},\n",
    "    master_clock = \"time\",\n",
    "    input_vars={\n",
    "        # number of nodes in the horizontal x-direction\n",
    "        'mesh__nx': 101,\n",
    "        # horizontal length of the model\n",
    "        'mesh__L': 1000,\n",
    "        # number of points in the vertical y-direction\n",
    "        'mesh__ny': 501,\n",
    "        # precipitation rate\n",
    "        'precip__rate': P,\n",
    "        # uplift rate\n",
    "        'uplift__rate': U,\n",
    "        # hydraulic conductivity\n",
    "        'regolith__K': 1e4,\n",
    "        # ratio of weathering front velocity over fluid velocity\n",
    "        'regolith__F': 1e-6,\n",
    "        # number of points in the vertical y-direction\n",
    "        'duricrust__ny': 501,\n",
    "        # characteristic time scale for duricrust formation\n",
    "        'duricrust__tau': 10e30,\n",
    "        # water table beating height\n",
    "        'duricrust__lamda': 0.1,\n",
    "        # reference diffusivity\n",
    "        'harden_diffusion__Kd': 1,\n",
    "        # initial topographic slope\n",
    "        'init_topography__slope': 0.01,\n",
    "    },\n",
    "    output_vars={\"topography__elevation\": \"out\",\n",
    "        \"regolith__thickness\": \"out\",\n",
    "        \"regolith__water_table\": \"out\",\n",
    "        \"regolith__weathering_front\": \"out\",\n",
    "        \"duricrust__hardness\": \"out\",\n",
    "        \"duricrust__age_regolith\": \"out\",\n",
    "        \"duricrust__age_duricrust\": \"out\",\n",
    "        \"regolith__Omega\": \"out\",\n",
    "        \"regolith__Gamma\": \"out\",}\n",
    ")\n"
   ]
  },
  {
   "cell_type": "code",
   "execution_count": null,
   "id": "accredited-warning",
   "metadata": {},
   "outputs": [],
   "source": [
    "zgroup = zarr.group(\"regolith_duri.zarr\", overwrite=True)\n",
    "\n",
    "with WTmodel, xs.monitoring.ProgressBar():\n",
    "    ds_out = ds_in.xsimlab.run(store=zgroup)\n",
    "    \n",
    "ds_out"
   ]
  },
  {
   "cell_type": "code",
   "execution_count": null,
   "id": "buried-marker",
   "metadata": {},
   "outputs": [],
   "source": [
    "out=-1\n",
    "fig,ax = plt.subplots(nrows=1, ncols=1, figsize=(9,4)) #2 diagrams in 1 plot\n",
    "\n",
    "#The diagram colour base. Without it, you won't see colors. This step is needed as it defines the characteristics of the diagram mesh\n",
    "x, y = np.meshgrid(ds_out.x, ds_out.y)\n",
    "for k in range(int(ds_out.mesh__nx)):\n",
    "    y[:, k] = (\n",
    "        y[:, k] * ds_out.regolith__thickness.isel(out=out).values[k] + \n",
    "        ds_out.regolith__weathering_front.isel(out=out).values[k]\n",
    "    )\n",
    "\n",
    "# The actual plotting\n",
    "#cp = ax.contourf(x, y, (ds_out.out.isel(out=-1) - ds_out.duricrust__age_regolith.isel(out=out)), np.linspace(0,2*ds_out.out[-1].values/nhumps,11))"
   ]
  },
  {
   "cell_type": "markdown",
   "id": "precious-smith",
   "metadata": {},
   "source": [
    "##### Plot 9: Fluxes in the regolith\n",
    "\n",
    "Vizualisation of sediment fluxes. For this, we need to adjust the time scale, for it to work in time and not in model time. Uplift will be changed into an array filled with 1, and then our uplift values (all?) will become a cumulative sum with the attribut \".cumsum()'."
   ]
  },
  {
   "cell_type": "code",
   "execution_count": null,
   "id": "accurate-ebony",
   "metadata": {},
   "outputs": [],
   "source": [
    "uplift = xr.ones_like(ds_out.time) #\"uplift\" is now a array with only ones as values. The array is as long as ds_out.time to match it correctly.\n",
    "uplift[1:] = (ds_out.uplift__rate[1:]*ds_out.time.diff('time')).cumsum() #here, we say that uplift[1:] is the value of the cumulative sum of the calculation."
   ]
  },
  {
   "cell_type": "markdown",
   "id": "silver-september",
   "metadata": {},
   "source": [
    "Now we get to define our fluxes according to erosion, weathering front \"moving\" rate and everything will have to be scaled."
   ]
  },
  {
   "cell_type": "code",
   "execution_count": null,
   "id": "naval-ecology",
   "metadata": {},
   "outputs": [],
   "source": [
    "#Plotting 4 parameters in 1 diagram. Axis x (out) is time, axis y is all the other parameters.\n",
    "\n",
    "fig, ax = plt.subplots(figsize=(12,5))\n",
    "\n",
    "#Definition of values we want to plot\n",
    "erosion_rate = uplift.sel(time=ds_out.out).differentiate('out') - ds_out.topography__elevation.differentiate('out')\n",
    "front_rate = uplift.sel(time=ds_out.out).differentiate('out') - ds_out.regolith__weathering_front.differentiate('out')\n",
    "\n",
    "sediment_flux = erosion_rate.integrate('x')\n",
    "sediment_flux.plot(ax=ax, label='Sediment Flux')\n",
    "\n",
    "weathering_flux = front_rate.integrate('x')\n",
    "weathering_flux.plot(ax=ax, label='Weathering Flux')\n",
    "\n",
    "#The actual plotting of uplift and precipitation\n",
    "(ds_out.uplift__rate.sel(time=ds_out.out)*ds_out.mesh__L).plot(ax=ax, label='uplift function')\n",
    "scale = ds_out.uplift__rate.sel(time=ds_out.out).max()*ds_out.mesh__L/ds_out.precip__rate.sel(time=ds_out.out).max()\n",
    "(ds_out.precip__rate.sel(time=ds_out.out)*scale).plot(ax=ax, label='precip function')\n",
    "\n",
    "ax.legend()"
   ]
  },
  {
   "cell_type": "code",
   "execution_count": null,
   "id": "oriental-appeal",
   "metadata": {},
   "outputs": [],
   "source": []
  },
  {
   "cell_type": "markdown",
   "id": "driven-circle",
   "metadata": {},
   "source": [
    "##### Plot 10: Residence time\n",
    "\n",
    "It is possible to compute the residence time of praticles in the regolith, when we know the sediment and weathering fluxes. It must be done in two steps:\n",
    "- First, we define what are our residence times in the regolith and in the water.\n",
    "- Then we can plot\n",
    "Step 1:"
   ]
  },
  {
   "cell_type": "code",
   "execution_count": null,
   "id": "sound-quantity",
   "metadata": {},
   "outputs": [],
   "source": [
    "#definition and calculation for the residence time, plotted in the cell below\n",
    "\n",
    "residence_time_regolith = xr.zeros_like(ds_out.out)\n",
    "residence_time_water = xr.zeros_like(ds_out.out)\n",
    "\n",
    "for i,t in enumerate(ds_out.out):\n",
    "    func = ((uplift.sel(time=ds_out.out).sel(out=t)-uplift.sel(time=ds_out.out)\n",
    "      -1*(ds_out.topography__elevation.sel(out=t)-ds_out.topography__elevation)\n",
    "     -ds_out.regolith__thickness).mean('x'))\n",
    "    zero_crossings = np.where(np.diff(np.sign(func)))[0]\n",
    "    tb = 0\n",
    "    if len(zero_crossings)>0:\n",
    "        tb = (ds_out.out[1+zero_crossings[0]]\n",
    "              + (ds_out.out[2+zero_crossings[0]] - ds_out.out[1+zero_crossings[0]])\n",
    "             * (0 - func[zero_crossings[0]])\n",
    "              / (func[zero_crossings[0]+1] - func[zero_crossings[0]]))\n",
    "        residence_time_regolith[i] = ((t-tb).values)\n",
    "    funcw = ((uplift.sel(time=ds_out.out).sel(out=t)-uplift.sel(time=ds_out.out)\n",
    "      -1*(ds_out.topography__elevation.sel(out=t)-ds_out.topography__elevation)\n",
    "     -(ds_out.topography__elevation-ds_out.regolith__water_table)).mean('x'))\n",
    "    zero_crossings = np.where(np.diff(np.sign(funcw)))[0]\n",
    "    if len(zero_crossings)>0:\n",
    "        tw = (ds_out.out[1+zero_crossings[-1]]\n",
    "              + (ds_out.out[2+zero_crossings[-1]] - ds_out.out[1+zero_crossings[-1]])\n",
    "             * (0 - funcw[zero_crossings[-1]])\n",
    "              / (funcw[zero_crossings[-1]+1] - funcw[zero_crossings[-1]])) \n",
    "        residence_time_water[i] = (tw- tb).values"
   ]
  },
  {
   "cell_type": "markdown",
   "id": "collected-burning",
   "metadata": {},
   "source": [
    "Step 2:"
   ]
  },
  {
   "cell_type": "code",
   "execution_count": null,
   "id": "interstate-caution",
   "metadata": {},
   "outputs": [],
   "source": [
    "fig, ax = plt.subplots(figsize=(15,5))\n",
    "\n",
    "#Plotting of the residence time compared to other parameters\n",
    "residence_time_regolith.plot(ax=ax, label='residence time in regolith')\n",
    "\n",
    "residence_time_water.plot(ax=ax, label='residence time below water table in regolith')\n",
    "\n",
    "water_flux = ds_out.precip__rate.sel(time=ds_out.out)*residence_time_water\n",
    "(water_flux/ds_out.precip__rate.max()/2).plot(ax=ax, label='water flux')\n",
    "\n",
    "scale = residence_time_regolith.max()/ds_out.uplift__rate.max()\n",
    "(ds_out.uplift__rate.sel(time=ds_out.out)*scale).plot(ax=ax, label='uplift function')\n",
    "\n",
    "scale = residence_time_regolith.max()/ds_out.precip__rate.max()\n",
    "(ds_out.precip__rate.sel(time=ds_out.out)*scale).plot(ax=ax, label='precip function')\n",
    "\n",
    "ax.legend()\n",
    "fig.tight_layout()"
   ]
  },
  {
   "cell_type": "code",
   "execution_count": null,
   "id": "irish-nudist",
   "metadata": {},
   "outputs": [],
   "source": []
  },
  {
   "cell_type": "markdown",
   "id": "african-evening",
   "metadata": {},
   "source": [
    "##### Plot 11: Solubility"
   ]
  },
  {
   "cell_type": "markdown",
   "id": "likely-swing",
   "metadata": {},
   "source": [
    "Variation in solubility, variation in F, can be expressed as dependent on temperature through the Arrhenius law which gives us this diagram following the Arhenius equation."
   ]
  },
  {
   "cell_type": "code",
   "execution_count": null,
   "id": "individual-cycle",
   "metadata": {},
   "outputs": [],
   "source": [
    "plt.plot(np.exp(-1107/(274+np.linspace(0,50))-0.0254))"
   ]
  },
  {
   "cell_type": "markdown",
   "id": "extreme-beads",
   "metadata": {},
   "source": [
    "## Batch uplift: analysis of multiple U at the same time, anorogenic to orogenic environments."
   ]
  },
  {
   "cell_type": "code",
   "execution_count": null,
   "id": "resident-beads",
   "metadata": {},
   "outputs": [],
   "source": [
    "import scipy.signal as sg\n",
    "\n",
    "tfinal = 10e6 #time to the end\n",
    "nstep = 10001 #time step\n",
    "tim = np.linspace(0, tfinal, nstep)\n",
    "U0 = 50e-6\n",
    "# choice of a step-wise uplift rate with nhumps number of steps\n",
    "nhumps = 10\n",
    "U = U0 * (1 + sg.square(np.linspace(0, 2 * np.pi * nhumps, nstep), duty=0.5)) / 2 \n",
    "#The 1/5 duty makes the percent of the signal period in which the square wave is positive,\n",
    "# which means that by 1/2, 50% of the wave is positive and 50 negative\n",
    "# choice of a constant uplift rate\n",
    "#U = U0*np.ones(nstep)\n",
    "U = xr.DataArray(U, dims=\"time\") #to specify the dimension we want to use, so he can work with it in the right dimensions.\n",
    "U = U/U.mean()*U0\n",
    "print('mean uplift rate', U.mean().values)\n",
    "\n",
    "P0 = 5\n",
    "#choice of a step-wise precipitaiton function\n",
    "#P = 5 + 10 * sg.square(np.linspace(0, 2 * np.pi * 10, nstep), duty=0.5) / 2\n",
    "# choice of a uniform precipitation function\n",
    "P = np.ones(nstep)\n",
    "P = xr.DataArray(P, dims=\"time\")\n",
    "P = P/P.mean()*P0\n",
    "print('mean precipitation rate', P.mean().values)"
   ]
  },
  {
   "cell_type": "code",
   "execution_count": null,
   "id": "divided-employment",
   "metadata": {},
   "outputs": [],
   "source": [
    "%create_setup model -d -v"
   ]
  },
  {
   "cell_type": "code",
   "execution_count": null,
   "id": "unnecessary-spice",
   "metadata": {},
   "outputs": [],
   "source": []
  },
  {
   "cell_type": "code",
   "execution_count": null,
   "id": "metric-macedonia",
   "metadata": {},
   "outputs": [],
   "source": []
  },
  {
   "cell_type": "code",
   "execution_count": null,
   "id": "covered-pierre",
   "metadata": {},
   "outputs": [],
   "source": []
  },
  {
   "cell_type": "code",
   "execution_count": null,
   "id": "chemical-ideal",
   "metadata": {},
   "outputs": [],
   "source": []
  },
  {
   "cell_type": "code",
   "execution_count": null,
   "id": "positive-table",
   "metadata": {},
   "outputs": [],
   "source": []
  },
  {
   "cell_type": "code",
   "execution_count": null,
   "id": "alpha-trace",
   "metadata": {},
   "outputs": [],
   "source": []
  },
  {
   "cell_type": "code",
   "execution_count": null,
   "id": "perfect-hospital",
   "metadata": {},
   "outputs": [],
   "source": []
  },
  {
   "cell_type": "code",
   "execution_count": null,
   "id": "fifth-tunisia",
   "metadata": {},
   "outputs": [],
   "source": []
  },
  {
   "cell_type": "markdown",
   "id": "needed-pizza",
   "metadata": {},
   "source": [
    "Question: What happens in anorogenic areas? And what happens in orogenic areas? What's the difference?"
   ]
  },
  {
   "cell_type": "code",
   "execution_count": null,
   "id": "small-luther",
   "metadata": {},
   "outputs": [],
   "source": []
  },
  {
   "cell_type": "markdown",
   "id": "violent-kingdom",
   "metadata": {},
   "source": [
    "## Batch precipitation: analysis of multiple P at the same time."
   ]
  },
  {
   "cell_type": "code",
   "execution_count": null,
   "id": "automotive-collect",
   "metadata": {},
   "outputs": [],
   "source": [
    "import scipy.signal as sg\n",
    "\n",
    "tfinal = 10e6 #time to the end\n",
    "nstep = 10001 #time step\n",
    "tim = np.linspace(0, tfinal, nstep)\n",
    "U0 = 50e-6\n",
    "# choice of a step-wise uplift rate with nhumps number of steps\n",
    "nhumps = 10\n",
    "U = U0 * (1 + sg.square(np.linspace(0, 2 * np.pi * nhumps, nstep), duty=0.5)) / 2 \n",
    "#The 1/5 duty makes the percent of the signal period in which the square wave is positive,\n",
    "# which means that by 1/2, 50% of the wave is positive and 50 negative\n",
    "# choice of a constant uplift rate\n",
    "#U = U0*np.ones(nstep)\n",
    "U = xr.DataArray(U, dims=\"time\") #to specify the dimension we want to use, so he can work with it in the right dimensions.\n",
    "U = U/U.mean()*U0\n",
    "print('mean uplift rate', U.mean().values)\n",
    "\n",
    "P0 = 5\n",
    "#choice of a step-wise precipitaiton function\n",
    "#P = 5 + 10 * sg.square(np.linspace(0, 2 * np.pi * 10, nstep), duty=0.5) / 2\n",
    "# choice of a uniform precipitation function\n",
    "P = np.ones(nstep)\n",
    "P = xr.DataArray(P, dims=\"time\")\n",
    "P = P/P.mean()*P0\n",
    "print('mean precipitation rate', P.mean().values)"
   ]
  },
  {
   "cell_type": "code",
   "execution_count": null,
   "id": "former-diameter",
   "metadata": {},
   "outputs": [],
   "source": [
    "%create_setup model -d -v"
   ]
  },
  {
   "cell_type": "code",
   "execution_count": null,
   "id": "ultimate-shame",
   "metadata": {},
   "outputs": [],
   "source": []
  },
  {
   "cell_type": "code",
   "execution_count": null,
   "id": "soviet-renewal",
   "metadata": {},
   "outputs": [],
   "source": []
  },
  {
   "cell_type": "code",
   "execution_count": null,
   "id": "outside-seminar",
   "metadata": {},
   "outputs": [],
   "source": []
  },
  {
   "cell_type": "code",
   "execution_count": null,
   "id": "passive-startup",
   "metadata": {},
   "outputs": [],
   "source": []
  },
  {
   "cell_type": "code",
   "execution_count": null,
   "id": "recent-holly",
   "metadata": {},
   "outputs": [],
   "source": []
  },
  {
   "cell_type": "code",
   "execution_count": null,
   "id": "coastal-chick",
   "metadata": {},
   "outputs": [],
   "source": []
  },
  {
   "cell_type": "code",
   "execution_count": null,
   "id": "intended-given",
   "metadata": {},
   "outputs": [],
   "source": []
  },
  {
   "cell_type": "code",
   "execution_count": null,
   "id": "integrated-blast",
   "metadata": {},
   "outputs": [],
   "source": []
  }
 ],
 "metadata": {
  "kernelspec": {
   "display_name": "Python 3 (ipykernel)",
   "language": "python",
   "name": "python3"
  },
  "language_info": {
   "codemirror_mode": {
    "name": "ipython",
    "version": 3
   },
   "file_extension": ".py",
   "mimetype": "text/x-python",
   "name": "python",
   "nbconvert_exporter": "python",
   "pygments_lexer": "ipython3",
   "version": "3.10.8"
  }
 },
 "nbformat": 4,
 "nbformat_minor": 5
}

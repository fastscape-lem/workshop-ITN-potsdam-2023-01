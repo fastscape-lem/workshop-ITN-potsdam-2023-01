{
 "cells": [
  {
   "cell_type": "markdown",
   "id": "systematic-lawyer",
   "metadata": {},
   "source": [
    "# Introduction Into Modelling with Python"
   ]
  },
  {
   "cell_type": "markdown",
   "id": "generous-improvement",
   "metadata": {},
   "source": [
    "<img src=\"./assets/python.jpeg\">\n",
    "\n",
    "*Photo by David Clode (Unsplash)*"
   ]
  },
  {
   "cell_type": "markdown",
   "id": "saving-blank",
   "metadata": {},
   "source": [
    "### Important before we start: is everything installed as it should?\n",
    "\n",
    "- JupyterLab\n",
    "- Environment(s)\n",
    "- Tools/libraries"
   ]
  },
  {
   "cell_type": "markdown",
   "id": "naked-score",
   "metadata": {},
   "source": [
    "Notebooks in JupyterLab: The interface we will use is called JupyterLab. It's a web-based interface where we can open notebooks, consols and work directly on codes but also on text like these course notebooks. For more information about JupyterLab, see https://jupyterlab.readthedocs.io/en/stable/. Jupyter (https://jupyter.org/) is a free software for programming in any language. We will be using Python."
   ]
  },
  {
   "cell_type": "markdown",
   "id": "compound-syndicate",
   "metadata": {},
   "source": [
    "### Small reminder about Linux commands"
   ]
  },
  {
   "cell_type": "markdown",
   "id": "anonymous-trust",
   "metadata": {},
   "source": [
    "To use in our terminals. Small but important commands we will need to install our environments, keep them up to date, use them, to call onto jupyter lab, importe github files we will need and update them."
   ]
  },
  {
   "cell_type": "markdown",
   "id": "viral-separate",
   "metadata": {},
   "source": [
    "*Conda commands*\n",
    " - For installing packages: conda install NAME\n",
    " - For installing help: conda install --help\n",
    " - For creating new environments: conda create --NAME\n",
    " - For information: conda info\n",
    " - For finding conda packages: conda search NAME\n",
    " - For seeing which environments you have: conda info --envs\n",
    " - For activating an environment: conda activate NAME\n",
    " - For updating programms: conda update NAME\n",
    " - For updating conda if needed: conda update conda\n",
    " - For opening jupyter lab in the terminal: jupyter lab\n",
    " - For showing Python version we have: python --version\n",
    " - Update environments: conda env update --name myenv --file local.yml --prune\n",
    " \n",
    "For more information about how to manage environments, you can go to: https://conda.io/projects/conda/en/latest/user-guide/tasks/manage-environments.html#creating-an-environment-from-an-environment-yml-file"
   ]
  },
  {
   "cell_type": "markdown",
   "id": "hybrid-dress",
   "metadata": {},
   "source": [
    "*Git commands*\n",
    "- For pasting/saving a git repositery to our computer: git clone\n",
    "- And others: https://blog.loginradius.com/engineering/git-commands/"
   ]
  },
  {
   "cell_type": "markdown",
   "id": "adequate-funds",
   "metadata": {},
   "source": [
    "### Set up completed, ready for departure"
   ]
  },
  {
   "cell_type": "markdown",
   "id": "breeding-hungary",
   "metadata": {},
   "source": [
    "What we will be doing here? We will go on a journey through modelling. Our goal this week is the take off platform, and for that, we  need to start at the beginning, get through pilote school, the airport organisation and understand the quirks and kinks of the process to get to settle in our pilot cabine. \n",
    "\n",
    "What's next, you want to know? You will pass the control tower's approval an with all your new knowledge luggage, ready to take off to your destinations. "
   ]
  },
  {
   "cell_type": "markdown",
   "id": "minute-industry",
   "metadata": {},
   "source": [
    "<img src=\"./assets/a380.jpeg\" align=\"center\"  width=\"70%\" height=\"40%\">"
   ]
  },
  {
   "cell_type": "markdown",
   "id": "adopted-thomson",
   "metadata": {},
   "source": [
    "### Basics for Python"
   ]
  },
  {
   "cell_type": "markdown",
   "id": "qualified-mortality",
   "metadata": {},
   "source": [
    "Environments: To write a code, you first need a structure for it. This structure is what we call numerical environments. These environments are sort of boxes, where we put every tool (or library) we will need for our projects. Creating 1 environment per project is ideal. Categorising environments like this help to have an organised work space, and adequate tools for each ptoject to run smoothly. For example, sometimes, you could need different versions of 1 tool for different projects to run, which makes this really useful."
   ]
  },
  {
   "cell_type": "markdown",
   "id": "distinguished-macedonia",
   "metadata": {},
   "source": [
    "Libraries: What I call \"tools\". They are pre-written codes we can use for our code to work. Need mathematical equations in your code? Install \"math\" or \"numpy\", \"pandas\"... etc. \n",
    "An inventroy of libraries can be found on the Internet. Some pre-made environments you can download hold the necessary tools you want. Best though, is to know what you need and want to use. Usually, when you start working with models, there are Github pages where you can find all the information you need like what tools you could need to use their frameworks."
   ]
  },
  {
   "cell_type": "markdown",
   "id": "empty-gabriel",
   "metadata": {},
   "source": [
    "Libraries can be updated, environments too. Depending on your needs, you should up-date your environments so your tools continue working. This can easely be done in our computer consoles/terminals."
   ]
  },
  {
   "cell_type": "markdown",
   "id": "weekly-stream",
   "metadata": {},
   "source": [
    "*List of tools/libraries we should have for this workshop:*\n",
    "  - python=3.10 (python version we will use)\n",
    "  - numpy https://numpy.org/https://numpy.org/\n",
    "  - pandas https://pandas.pydata.org/https://pandas.pydata.org/\n",
    "  - dask https://www.dask.org/https://www.dask.org/\n",
    "  - xarray https://docs.xarray.dev/en/stable/https://docs.xarray.dev/en/stable/\n",
    "  - xarray-simlab=0.5.0 https://xarray-simlab.readthedocs.io/en/latest/https://xarray-simlab.readthedocs.io/en/latest/\n",
    "  - netcdf4 https://unidata.github.io/netcdf4-python/https://unidata.github.io/netcdf4-python/\n",
    "  - fastscape https://fastscape.org/https://fastscape.org/\n",
    "  - ipyfastscape\n",
    "  - jupyterlab=3 \n",
    "  - ipykernel https://pypi.org/project/ipykernel/https://pypi.org/project/ipykernel/\n",
    "  - ipywidgets https://ipywidgets.readthedocs.io/en/stable/https://ipywidgets.readthedocs.io/en/stable/\n",
    "  - matplotlib-base https://matplotlib.org/stable/tutorials/introductory/quick_start.htmlhttps://matplotlib.org/stable/tutorials/introductory/quick_start.html\n",
    "  - graphviz https://graphviz.org/https://graphviz.org/\n",
    "  - python-graphviz\n",
    "  - numba https://numba.pydata.org/https://numba.pydata.org/\n",
    "  - hvplot=0.7.0 https://hvplot.holoviz.org/https://hvplot.holoviz.org/\n",
    "  - zarr https://zarr.readthedocs.io/en/stable/https://zarr.readthedocs.io/en/stable/\n",
    "  - tqdm https://tqdm.github.io/https://tqdm.github.io/\n",
    "  - scipy https://scipy.org/https://scipy.org/\n",
    "  - nomkl: needs to be installed to work on PC\n",
    "  - pip"
   ]
  },
  {
   "cell_type": "markdown",
   "id": "enclosed-store",
   "metadata": {},
   "source": [
    "For example, for this workshop, we will use 1 common environment to make it easy. However, Amanda and I have different environments as our projects are different. The basics are there (numpy, xarray-simlab... but some can be \"individual\").\n",
    "This is en exhaustive list, not including everything. Other interesting packages like seaborn (https://seaborn.pydata.org/) exist. You have to search for them depending on your needs. "
   ]
  },
  {
   "cell_type": "markdown",
   "id": "laden-commodity",
   "metadata": {},
   "source": [
    "Notebooks: That's what we use to write our programms, but it can also be used as a presentation file for lectures and many other possibilities. You can have Python files, but you can also access a termnial notebook if you want. We will only use notebooks ending with \".ipynb\"."
   ]
  },
  {
   "cell_type": "markdown",
   "id": "blond-track",
   "metadata": {},
   "source": [
    "## Python tools"
   ]
  },
  {
   "cell_type": "markdown",
   "id": "considered-strip",
   "metadata": {},
   "source": [
    "Some built-in commands exist like basic mathematics:"
   ]
  },
  {
   "cell_type": "code",
   "execution_count": null,
   "id": "subsequent-intent",
   "metadata": {},
   "outputs": [],
   "source": [
    "a = 1\n",
    "b = 5"
   ]
  },
  {
   "cell_type": "code",
   "execution_count": null,
   "id": "generous-cookbook",
   "metadata": {},
   "outputs": [],
   "source": [
    "a+b"
   ]
  },
  {
   "cell_type": "code",
   "execution_count": null,
   "id": "joined-wisconsin",
   "metadata": {},
   "outputs": [],
   "source": [
    "a*b"
   ]
  },
  {
   "cell_type": "code",
   "execution_count": null,
   "id": "civic-presence",
   "metadata": {},
   "outputs": [],
   "source": [
    "a-b"
   ]
  },
  {
   "cell_type": "markdown",
   "id": "egyptian-isaac",
   "metadata": {},
   "source": [
    "If we want to solve more complexe models, then we need the above mentioned packages. Before even talking about the FastScape Framework, we need to understand what it is based on. The packages we will mainly use for that are Numpy, Xarray and XarraySimlab."
   ]
  },
  {
   "cell_type": "markdown",
   "id": "afraid-fight",
   "metadata": {},
   "source": [
    "### NumPy"
   ]
  },
  {
   "cell_type": "markdown",
   "id": "determined-medline",
   "metadata": {},
   "source": [
    "\"NumPy is the fundamental package for scientific computing in Python.\" is what is written on the NumPy webpage. This library introduces something we do not have automatically, but is necessary for science: arrays and attributes."
   ]
  },
  {
   "cell_type": "markdown",
   "id": "frozen-george",
   "metadata": {},
   "source": [
    "#### Arrays\n",
    "Arrays are multidimensional data structures. To put it simply, they are boxes in which we can store values of the same type. Here is a simple example of a 1 dimensional array also known as a list. It is something you can do with Python.\n"
   ]
  },
  {
   "cell_type": "code",
   "execution_count": null,
   "id": "adapted-vermont",
   "metadata": {},
   "outputs": [],
   "source": [
    "nb = [1, 2, 3, 4, 5, 6, 7, 8, 9, 10]"
   ]
  },
  {
   "cell_type": "markdown",
   "id": "finished-dayton",
   "metadata": {},
   "source": [
    "We have a *list* with 10 numbers inside."
   ]
  },
  {
   "cell_type": "code",
   "execution_count": null,
   "id": "nonprofit-laundry",
   "metadata": {},
   "outputs": [],
   "source": [
    "nb"
   ]
  },
  {
   "cell_type": "markdown",
   "id": "proud-reply",
   "metadata": {},
   "source": [
    "You can now select specific elements inside: each element has a dedicated index number, going from 0 to x. Here we have 10 numbers, going from 0 to 9. Next, you can try to select parts of it."
   ]
  },
  {
   "cell_type": "code",
   "execution_count": null,
   "id": "creative-artwork",
   "metadata": {},
   "outputs": [],
   "source": [
    "nb[6]"
   ]
  },
  {
   "cell_type": "code",
   "execution_count": null,
   "id": "functioning-produce",
   "metadata": {},
   "outputs": [],
   "source": [
    "nb[0:6]"
   ]
  },
  {
   "cell_type": "code",
   "execution_count": null,
   "id": "committed-change",
   "metadata": {},
   "outputs": [],
   "source": [
    "nb[-1]"
   ]
  },
  {
   "cell_type": "code",
   "execution_count": null,
   "id": "loving-straight",
   "metadata": {},
   "outputs": [],
   "source": [
    "len(nb) # to know its length. It is always 1 more than the index, as 0 counts like a number."
   ]
  },
  {
   "cell_type": "markdown",
   "id": "outstanding-illinois",
   "metadata": {},
   "source": [
    "Something you cannot do here: n = nb[3:5] + nb[0]. You will get an error message. For more complexe actions, you will need NumPy, for this, we need to import it first."
   ]
  },
  {
   "cell_type": "code",
   "execution_count": null,
   "id": "written-reader",
   "metadata": {},
   "outputs": [],
   "source": [
    "import numpy as np"
   ]
  },
  {
   "cell_type": "markdown",
   "id": "competitive-repair",
   "metadata": {},
   "source": [
    "##### Attributes, the use of \".\"\n",
    "You will notice that we put dots in front of some our actions. Python, NumPy, but also the Xarray framework, XarraySimlab and also Fastscape uses them. The method is enterly based on \".\". These are attributes/behaviours. For example np.array, means that we are using the \"array\" attribute in NumPy. One action can have multiple attributes, which can be very useful while trying to compile a more complex plot for example. To check for attributes/actions possible and you don't know the list, you can write \"a.\" and press \"tab\", a list of all actions possible will pop out."
   ]
  },
  {
   "cell_type": "markdown",
   "id": "binary-roulette",
   "metadata": {},
   "source": [
    "##### The difference between numpy and python arrays:\n",
    "\n",
    "NumPy arrays are a little different compared to what we just did. There are more advanced operations we can do with numpy arrays. They work faster, are more compact and consume less memory. \n",
    "\n",
    "To create an array, we need to specifiy that the method comes from numpy, so..."
   ]
  },
  {
   "cell_type": "code",
   "execution_count": null,
   "id": "technical-reach",
   "metadata": {},
   "outputs": [],
   "source": [
    "x = np.array([1, 2, 3, 4, 5, 6, 7, 8, 9, 10])"
   ]
  },
  {
   "cell_type": "markdown",
   "id": "vertical-growing",
   "metadata": {},
   "source": [
    "We want its shape and some other characteristics:"
   ]
  },
  {
   "cell_type": "code",
   "execution_count": null,
   "id": "dramatic-dream",
   "metadata": {},
   "outputs": [],
   "source": [
    "x.shape"
   ]
  },
  {
   "cell_type": "code",
   "execution_count": null,
   "id": "integrated-diamond",
   "metadata": {},
   "outputs": [],
   "source": [
    "x[0]"
   ]
  },
  {
   "cell_type": "code",
   "execution_count": null,
   "id": "industrial-blues",
   "metadata": {},
   "outputs": [],
   "source": [
    "x[5:-1]"
   ]
  },
  {
   "cell_type": "code",
   "execution_count": null,
   "id": "ambient-african",
   "metadata": {},
   "outputs": [],
   "source": [
    "y = x[0:3] + x[-1]\n",
    "y"
   ]
  },
  {
   "cell_type": "code",
   "execution_count": null,
   "id": "frequent-produce",
   "metadata": {},
   "outputs": [],
   "source": [
    "v = x[0:5] * x[7]\n",
    "v"
   ]
  },
  {
   "cell_type": "markdown",
   "id": "molecular-newport",
   "metadata": {},
   "source": [
    "More complex actions inlcude using arrays as matrices and data with mutliple dimensions. For this, we will use a randomising tool."
   ]
  },
  {
   "cell_type": "code",
   "execution_count": null,
   "id": "understood-investigator",
   "metadata": {},
   "outputs": [],
   "source": [
    "w2d = np.random.uniform(size=(5, 2))\n",
    "\n",
    "w2d"
   ]
  },
  {
   "cell_type": "markdown",
   "id": "intimate-figure",
   "metadata": {},
   "source": [
    "Manipulations working in 1D work also in multiple dimensions. There are some shortcomings, for example we cannot name or identify the dimensions."
   ]
  },
  {
   "cell_type": "markdown",
   "id": "twelve-astrology",
   "metadata": {},
   "source": [
    "#### Your turn!\n",
    "* In a random 3d array, what would you do to:\n",
    "    - find the mean of your array\n",
    "    - get the first box\n",
    "    - get only the last number\n",
    "    - get the number 7 \n",
    "    - get the 2nd lign in each box\n",
    "    - remove parts of the array\n",
    "    - as a result, have multiple values above 10\n",
    "    - multiply part of the array with one another"
   ]
  },
  {
   "cell_type": "code",
   "execution_count": null,
   "id": "closed-french",
   "metadata": {},
   "outputs": [],
   "source": []
  },
  {
   "cell_type": "code",
   "execution_count": null,
   "id": "false-cursor",
   "metadata": {},
   "outputs": [],
   "source": []
  },
  {
   "cell_type": "code",
   "execution_count": null,
   "id": "robust-romance",
   "metadata": {},
   "outputs": [],
   "source": []
  },
  {
   "cell_type": "code",
   "execution_count": null,
   "id": "controlling-stake",
   "metadata": {},
   "outputs": [],
   "source": []
  },
  {
   "cell_type": "code",
   "execution_count": null,
   "id": "optimum-performer",
   "metadata": {},
   "outputs": [],
   "source": []
  },
  {
   "cell_type": "code",
   "execution_count": null,
   "id": "solved-entrepreneur",
   "metadata": {},
   "outputs": [],
   "source": []
  },
  {
   "cell_type": "code",
   "execution_count": null,
   "id": "scheduled-combat",
   "metadata": {},
   "outputs": [],
   "source": []
  },
  {
   "cell_type": "code",
   "execution_count": null,
   "id": "thermal-block",
   "metadata": {},
   "outputs": [],
   "source": []
  },
  {
   "cell_type": "code",
   "execution_count": null,
   "id": "younger-hurricane",
   "metadata": {},
   "outputs": [],
   "source": []
  },
  {
   "cell_type": "markdown",
   "id": "accessory-ebony",
   "metadata": {},
   "source": [
    "## Matplotlib: a Python library and NumPy extension"
   ]
  },
  {
   "cell_type": "markdown",
   "id": "collectible-excitement",
   "metadata": {},
   "source": [
    "Matplotlib is a tool that shows your data through graphs. It is very useful for a multitude of actions, for example: multiple axes, multiple graph boxes of different sizes, bar charts, pies, maps, scatter plots, timelines, simple plots, stem plots, stackplots... And more. Customization through colours, line thickness and form, legends, titles and so on make the plots easier to read and aesthetically pleasing. We will see some simple examples for plots in the next part.\n",
    "\n",
    "There are so many possibilities, for which we cannot give examples for each, so you will have small preview about what you can do. Later in the week, we will be plotting maps and graphs to show data from Xarray/XarraySimlab and Fastscape."
   ]
  },
  {
   "cell_type": "markdown",
   "id": "featured-yeast",
   "metadata": {},
   "source": [
    "#### How to plot?"
   ]
  },
  {
   "cell_type": "markdown",
   "id": "noted-foundation",
   "metadata": {},
   "source": [
    "*linspace* = \"returns evenly spaced numbers over a specified interval.\""
   ]
  },
  {
   "cell_type": "code",
   "execution_count": null,
   "id": "motivated-spread",
   "metadata": {},
   "outputs": [],
   "source": [
    "import matplotlib.pyplot as plt"
   ]
  },
  {
   "cell_type": "code",
   "execution_count": null,
   "id": "white-narrative",
   "metadata": {},
   "outputs": [],
   "source": [
    "fig, ax = plt.subplots()\n",
    "ax.plot([1, 2, 3, 4, 5], [5, 4, 3, 2, 1]);"
   ]
  },
  {
   "cell_type": "code",
   "execution_count": null,
   "id": "needed-ballot",
   "metadata": {},
   "outputs": [],
   "source": [
    "fig, ax = plt.subplots()\n",
    "ax.plot(nb, nb);"
   ]
  },
  {
   "cell_type": "markdown",
   "id": "reserved-scale",
   "metadata": {},
   "source": [
    "#### Make a 1D plot showing the cos function from 0 to 1, with 500 values and 5 periods."
   ]
  },
  {
   "cell_type": "code",
   "execution_count": null,
   "id": "indian-allen",
   "metadata": {},
   "outputs": [],
   "source": []
  },
  {
   "cell_type": "markdown",
   "id": "occupied-coverage",
   "metadata": {},
   "source": [
    "#### Make a 1D plot, with a legend, title and 2 boxes using a random dataset array, one for a simple plot and one for a scatter plot. In 1 box, change the colours and save it."
   ]
  },
  {
   "cell_type": "code",
   "execution_count": null,
   "id": "considerable-handbook",
   "metadata": {},
   "outputs": [],
   "source": []
  },
  {
   "cell_type": "code",
   "execution_count": null,
   "id": "meaningful-newfoundland",
   "metadata": {},
   "outputs": [],
   "source": [
    "fig, ax = plt.subplots(ncols=2, figsize=(12,4))\n",
    "\n",
    "#Plotting\n",
    "\n",
    "\n",
    "#Fluffing\n",
    "\n",
    "ax[0].set_title(\"x and y\")\n",
    "ax[0].set_xlabel(\"x\")\n",
    "ax[0].set_ylabel(\"y\")\n",
    "ax[0].legend()\n",
    "#ax[0].grid(True) #adding a frid to the plot\n",
    "\n",
    "ax[1].set_title(\"y and x\")\n",
    "ax[1].set_xlabel(\"y\")\n",
    "ax[1].set_ylabel(\"x\")\n",
    "ax[1].legend()\n",
    "\n",
    "#plt.grid(True, axis='y') #adding a grid to the plot, another way\n",
    "#axis = '': you can specify on which axis you want a grid\n",
    "\n",
    "#fig.savefig('pics/example1''.png', bbox_inches='tight', dpi=300)\n",
    "#fig.savefig('pics/example1''.pdf', bbox_inches='tight')"
   ]
  },
  {
   "cell_type": "markdown",
   "id": "cooperative-intranet",
   "metadata": {},
   "source": [
    "Plotting and saving your figures in png and pdf files is very useful. While writing your articles, you will be able to go back to your figures, change details and prepare them for \"printing\". One of the important points to be aware of while creating our figures, is readability. The reader has to be able to recognize, without squinting their eyes or zooming, what the legend is, titles, any comments or scales. You can change your figure/writing ration with playing with \"figsize\". Depending on your figure, you will have to adjust its size. The difference will not be noticeable on our notebooks, however while adjusting your figures, the trick is to open your file every time you reload it."
   ]
  },
  {
   "cell_type": "markdown",
   "id": "improving-darwin",
   "metadata": {},
   "source": [
    "## Need more information? Internet!!!"
   ]
  },
  {
   "cell_type": "markdown",
   "id": "statutory-sculpture",
   "metadata": {},
   "source": [
    "links, information, extensive libraries, bugs, \"I'm stuck!\"..."
   ]
  },
  {
   "cell_type": "markdown",
   "id": "wired-selling",
   "metadata": {},
   "source": [
    "Example: Help for plotting? Go to https://www.tutorialspoint.com/numpy/numpy_matplotlib.htm or https://docs.xarray.dev/en/stable/user-guide/plotting.html. Need information about colours? Here is an extensive list: https://matplotlib.org/stable/gallery/color/named_colors.html.\n",
    "\n",
    "A bug? go to forums or tutorials to resolve them. Usually, similar questions were already answered somewhere... you just have to find them!"
   ]
  },
  {
   "cell_type": "code",
   "execution_count": null,
   "id": "strategic-bangkok",
   "metadata": {},
   "outputs": [],
   "source": []
  }
 ],
 "metadata": {
  "kernelspec": {
   "display_name": "Python 3 (ipykernel)",
   "language": "python",
   "name": "python3"
  },
  "language_info": {
   "codemirror_mode": {
    "name": "ipython",
    "version": 3
   },
   "file_extension": ".py",
   "mimetype": "text/x-python",
   "name": "python",
   "nbconvert_exporter": "python",
   "pygments_lexer": "ipython3",
   "version": "3.10.8"
  }
 },
 "nbformat": 4,
 "nbformat_minor": 5
}
